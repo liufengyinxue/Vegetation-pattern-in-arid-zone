{
 "cells": [
  {
   "cell_type": "markdown",
   "metadata": {},
   "source": [
    "**This model is based on \"von Hardenberg, J., Meron, E., Shachak, M. & Zarmi, Y. Diversity of Vegetation Patterns and Desertification. Phys. Rev. Lett. 87, 198101 (2001).\"**"
   ]
  },
  {
   "cell_type": "code",
   "execution_count": 2,
   "metadata": {},
   "outputs": [],
   "source": [
    "from numba import jit,prange,stencil  #牢记prange也要导入\n",
    "import numpy as np\n",
    "import math\n",
    "import matplotlib.pyplot as plt"
   ]
  },
  {
   "cell_type": "code",
   "execution_count": 3,
   "metadata": {},
   "outputs": [],
   "source": [
    "def pbc(MatA):\n",
    "    row,col=MatA.shape\n",
    "    MatA[0,1:col-1]=MatA[row-2,1:col-1]\n",
    "    MatA[row-1,1:col-1]=MatA[1,1:col-1] \n",
    "    MatA[1:row-1,0]=MatA[1:row-1,col-2] \n",
    "    MatA[1:row-1,col-1]=MatA[1:row-1,1]\n",
    "    MatA[0,0]=MatA[row-2,col-2]\n",
    "    MatA[0,col-1]=MatA[row-2,1]\n",
    "    MatA[row-1,0]=MatA[1,col-2]\n",
    "    MatA[row-1,col-1]=MatA[1,1]\n",
    "    return MatA\n",
    "\n",
    "@stencil\n",
    "def kernel_gradient(MatA,par1): #MatA为假想的水位矩阵\n",
    "    return (MatA[0,0]-MatA[-1,0])/par1\n",
    "\n",
    "@stencil\n",
    "def kernel_laplace(MatA,par1,par2): #MatA为植被矩阵或土壤水分矩阵\n",
    "    return (MatA[-1,0]-2.0*MatA[0,0]+MatA[1,0])/par1/par1+(MatA[0,-1]-2.0*MatA[0,0]+MatA[0,1])/par2/par2\n",
    "\n",
    "@stencil\n",
    "def kernel_global_VG(MatA,MatB,par1,par2,par3): #MatA为植被矩阵，MatB为水量矩阵\n",
    "    return MatA[0,0]*par1*MatB[0,0]/(1+par2*MatB[0,0])-MatA[0,0]*MatA[0,0]-par3*MatA[0,0]\n",
    "\n",
    "@stencil\n",
    "def kernel_global_WT(MatA,MatB,par1,par2): #MatA为植被矩阵，MatB为水量矩阵\n",
    "    return par1-(1-par2*MatA[0,0])*MatB[0,0]-MatB[0,0]*MatB[0,0]*MatA[0,0]"
   ]
  },
  {
   "cell_type": "code",
   "execution_count": null,
   "metadata": {},
   "outputs": [],
   "source": [
    "#Basic settings\n",
    "T=np.int(100) #演化时间\n",
    "L=np.int(64) #空间尺度\n",
    "M=L  \n",
    "N=L\n",
    "VG=np.zeros(shape=(M,N)) #植被生物量矩阵\n",
    "WT=np.zeros(shape=(M,N)) #水量矩阵\n",
    "\n",
    "#Model parameters, use the parameters in Fig. 2 of the paper\n",
    "p1=1.6 #gamma\n",
    "p2=1.6 #sigma\n",
    "p3=0.2 #miu\n",
    "p4=0.6 #p\n",
    "p5=1.5 #rho\n",
    "p6=100 #delta\n",
    "p7=3 #beta\n",
    "p8=0 #nu\n",
    "p9=3 #alfa\n",
    "dx=1 #grid size of x direction\n",
    "dy=1 #grid size of y direction\n",
    "dt=0.1 #time interval\n",
    "\n",
    "#Initial conditions\n",
    "VG=np.where(np.random.rand(M,N)<0.5,1,0)*0.25+1\n",
    "WT=WT+1\n",
    "VG=pbc(VG)\n",
    "WT=pbc(WT)\n",
    "\n",
    "#Model evolution\n",
    "for k in range(T):\n",
    "    WD=WT-p9*VG #假想的水位矩阵\n",
    "    SW=WT-p7*VG #假想的土壤水分矩阵\n",
    "    VG=VG+dt*(kernel_global_VG(VG,WT,p1,p2,p3)+kernel_laplace(VG,dx,dy))\n",
    "    WT=WT+dt*(kernel_global_WT(VG,WT,p4,p5)+p6*kernel_laplace(SW,dx,dy)-p8*kernel_gradient(WD,dx))\n",
    "    VG=pbc(VG)\n",
    "    WT=pbc(WT)\n",
    "#    plt.imshow(VG)\n",
    "#    plt.show()"
   ]
  },
  {
   "cell_type": "markdown",
   "metadata": {},
   "source": [
    "**由于文章没给dx、dy、dt以及初始条件等参数，因而我的计算结果总是发散掉。那么问题来了，应该如何经验性的确定这种参数呢？**"
   ]
  }
 ],
 "metadata": {
  "kernelspec": {
   "display_name": "Python 3",
   "language": "python",
   "name": "python3"
  },
  "language_info": {
   "codemirror_mode": {
    "name": "ipython",
    "version": 3
   },
   "file_extension": ".py",
   "mimetype": "text/x-python",
   "name": "python",
   "nbconvert_exporter": "python",
   "pygments_lexer": "ipython3",
   "version": "3.7.4"
  }
 },
 "nbformat": 4,
 "nbformat_minor": 4
}
