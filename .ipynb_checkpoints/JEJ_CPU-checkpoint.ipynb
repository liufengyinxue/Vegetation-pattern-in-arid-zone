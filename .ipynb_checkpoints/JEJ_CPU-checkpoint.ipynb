{
 "cells": [
  {
   "cell_type": "markdown",
   "metadata": {},
   "source": [
    "**This model is based on \"Nathan, J., von Hardenberg, J. & Meron, E. Spatial instabilities untie the exclusion-principle constraint on species coexistence. Journal of Theoretical Biology 335, 198–204 (2013).\"**"
   ]
  },
  {
   "cell_type": "code",
   "execution_count": 2,
   "metadata": {},
   "outputs": [],
   "source": [
    "from numba import jit,prange,stencil  #牢记prange也要导入\n",
    "import numpy as np\n",
    "import math\n",
    "import matplotlib.pyplot as plt"
   ]
  },
  {
   "cell_type": "code",
   "execution_count": 3,
   "metadata": {},
   "outputs": [],
   "source": [
    "def pbc(MatA):\n",
    "    row,col=MatA.shape\n",
    "    MatA[0,1:col-1]=MatA[row-2,1:col-1]\n",
    "    MatA[row-1,1:col-1]=MatA[1,1:col-1] \n",
    "    MatA[1:row-1,0]=MatA[1:row-1,col-2] \n",
    "    MatA[1:row-1,col-1]=MatA[1:row-1,1]\n",
    "    MatA[0,0]=MatA[row-2,col-2]\n",
    "    MatA[0,col-1]=MatA[row-2,1]\n",
    "    MatA[row-1,0]=MatA[1,col-2]\n",
    "    MatA[row-1,col-1]=MatA[1,1]\n",
    "    return MatA\n",
    "\n",
    "@stencil\n",
    "def kernel_gradient(MatA,par1): #MatA为假想的水位矩阵\n",
    "    return (MatA[0,0]-MatA[-1,0])/par1\n",
    "\n",
    "@stencil\n",
    "def kernel_laplace(MatA,par1,par2): #MatA为植被矩阵或土壤水分矩阵\n",
    "    return (MatA[-1,0]-2.0*MatA[0,0]+MatA[1,0])/par1/par1+(MatA[0,-1]-2.0*MatA[0,0]+MatA[0,1])/par2/par2\n",
    "\n",
    "@stencil\n",
    "def kernel_global_VG(MatA,MatB,par1,par2): #MatA为植被生物量矩阵，MatB为土壤水量矩阵\n",
    "    return (MatB[0,0]*par1-1*par2)*MatA[0,0]\n",
    "\n",
    "@stencil\n",
    "def kernel_global_W(MatA,MatB,MatC,MatD,par1,par2,par3,par4): #MatA和MatB为植被矩阵，MatC和MatD为土壤和地表水量矩阵\n",
    "    return par1*(MatA[0,0]+par2*par3)/(MatA[0,0]+par2)*MatD[0,0]-MatC[0,0]*(par4+MatA[0,0]+MatB[0,0])\n",
    "\n",
    "@stencil\n",
    "def kernel_global_H(MatA,MatB,par1,par2,par3,par4): #MatA为植被矩阵，MatB为地表水量矩阵\n",
    "    return par4-par1*(MatA[0,0]+par2*par3)/(MatA[0,0]+par2)*MatB[0,0]"
   ]
  },
  {
   "cell_type": "code",
   "execution_count": null,
   "metadata": {},
   "outputs": [],
   "source": [
    "#Basic settings\n",
    "T=np.int(100) #演化时间\n",
    "L=np.int(64) #空间尺度\n",
    "M=L  \n",
    "N=L\n",
    "B1=np.zeros(shape=(M,N)) #第一种植被的生物量矩阵\n",
    "B2=np.zeros(shape=(M,N)) #第二种植被的生物量矩阵\n",
    "W=np.zeros(shape=(M,N)) #土壤水量矩阵\n",
    "H=np.zeros(shape=(M,N)) #地表水量矩阵\n",
    "\n",
    "#Model parameters, use the parameters in Fig. 2 of the paper\n",
    "p1=1 #c2\n",
    "p2=1 #miu2\n",
    "p3=1 #d2\n",
    "p4=40 #alfa\n",
    "p5=0.1 #q\n",
    "p6=0.1 #f\n",
    "p7=1 #n\n",
    "p8=100 #dw\n",
    "p9=1 #p\n",
    "p10=10000 #dh\n",
    "dx=1 #grid size of x direction\n",
    "dy=1 #grid size of y direction\n",
    "dt=0.1 #time interval\n",
    "\n",
    "#Initial conditions\n",
    "B1=np.where(np.random.rand(M,N)<0.5,1,0)*0.25+1\n",
    "B2=np.where(np.random.rand(M,N)<0.5,1,0)*0.25+1\n",
    "W=W+1\n",
    "H=H+1\n",
    "B1=pbc(B1)\n",
    "B2=pbc(B2)\n",
    "W=pbc(W)\n",
    "H=pbc(H)\n",
    "\n",
    "#Model evolution\n",
    "for k in range(T):\n",
    "    B1=B1+dt*(kernel_global_VG(B1,W,1,1)+kernel_laplace(B1,dx,dy))\n",
    "    B2=B2+dt*(kernel_global_VG(B2,W,p1,p2)+p3*kernel_laplace(B2,dx,dy))\n",
    "    W=W+dt*(kernel_global_W(B1,B2,W,H,p4,p5,p6,p7)+p8*kernel_laplace(W,dx,dy))\n",
    "    H=H+dt*(kernel_global_H(B1,H,p4,p5,p6,p9)+p10*kernel_laplace(H,dx,dy))\n",
    "    B1=pbc(B1)\n",
    "    B2=pbc(B2)\n",
    "    W=pbc(W)\n",
    "    H=pbc(H)\n",
    "#    plt.imshow(VG)\n",
    "#    plt.show()"
   ]
  },
  {
   "cell_type": "markdown",
   "metadata": {},
   "source": [
    "**由于文章没给dx、dy、dt以及初始条件等参数，因而我的计算结果总是发散掉。那么问题来了，应该如何经验性的确定这种参数呢？**"
   ]
  }
 ],
 "metadata": {
  "kernelspec": {
   "display_name": "Python 3",
   "language": "python",
   "name": "python3"
  },
  "language_info": {
   "codemirror_mode": {
    "name": "ipython",
    "version": 3
   },
   "file_extension": ".py",
   "mimetype": "text/x-python",
   "name": "python",
   "nbconvert_exporter": "python",
   "pygments_lexer": "ipython3",
   "version": "3.7.4"
  }
 },
 "nbformat": 4,
 "nbformat_minor": 4
}
